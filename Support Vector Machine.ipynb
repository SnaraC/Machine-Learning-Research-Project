{
  "nbformat": 4,
  "nbformat_minor": 0,
  "metadata": {
    "colab": {
      "provenance": [],
      "authorship_tag": "ABX9TyMq+uVgNrMJrUTzb8mPUI7k",
      "include_colab_link": true
    },
    "kernelspec": {
      "name": "python3",
      "display_name": "Python 3"
    },
    "language_info": {
      "name": "python"
    }
  },
  "cells": [
    {
      "cell_type": "markdown",
      "metadata": {
        "id": "view-in-github",
        "colab_type": "text"
      },
      "source": [
        "<a href=\"https://colab.research.google.com/github/SnaraC/Machine-Learning-Research-Project/blob/main/Capstone_SVM.ipynb\" target=\"_parent\"><img src=\"https://colab.research.google.com/assets/colab-badge.svg\" alt=\"Open In Colab\"/></a>"
      ]
    },
    {
      "cell_type": "code",
      "source": [
        "import pandas as pd\n",
        "import numpy as np\n",
        "from sklearn import svm\n",
        "from sklearn.metrics import accuracy_score\n",
        "from sklearn.datasets import make_classification\n",
        "from matplotlib import pyplot as plt\n",
        "from sklearn.model_selection import train_test_split\n",
        "from sklearn.pipeline import make_pipeline\n",
        "from sklearn.preprocessing import StandardScaler\n",
        "from sklearn.metrics import confusion_matrix, ConfusionMatrixDisplay, f1_score\n",
        "from imblearn.under_sampling import RandomUnderSampler\n",
        "from imblearn.over_sampling import SMOTE"
      ],
      "metadata": {
        "id": "gwUTeP8VoQ4-"
      },
      "execution_count": null,
      "outputs": []
    },
    {
      "cell_type": "code",
      "source": [
        "# Import the data\n",
        "\n",
        "#data = pd.read_excel('/content/sample_data/Dataset_A_dataset.xlsx')\n",
        "#data = pd.read_excel('/content/sample_data/updatedData.xlsx')\n",
        "#data = pd.read_csv('/content/sample_data/Dataset_B_dataset.csv')\n",
        "\n",
        "# Remove missing data\n",
        "\n",
        "data.dropna(axis=0, inplace=True)\n",
        "#print(column)"
      ],
      "metadata": {
        "id": "AUdNHBLXoRAe"
      },
      "execution_count": null,
      "outputs": []
    },
    {
      "cell_type": "code",
      "source": [
        "#Choose the target output\n",
        "\n",
        "#x = data.drop(['PHQ', 'Y1MED1FF'], axis=1)\n",
        "#y = data['Y1MED1FF']\n",
        "\n",
        "#x = data.drop(['PHQ', 'Y1MED1FF'], axis=1)\n",
        "#y = data['PHQ']\n",
        "\n",
        "#x = data.drop(['target', 'ID'], axis=1)\n",
        "#y = data['target']"
      ],
      "metadata": {
        "id": "DiABSiz9oRHO",
        "colab": {
          "base_uri": "https://localhost:8080/"
        },
        "outputId": "8c15d0d6-402c-48a1-b6e0-9e755a7953ed"
      },
      "execution_count": null,
      "outputs": [
        {
          "output_type": "stream",
          "name": "stdout",
          "text": [
            "      RIDAGEYR  RIDRETH3  RIAGENDR  DMDMARTZ  DMDEDUC2  INDFMPIR  HIQ011  \\\n",
            "0           68         7         1       3.0       4.0      1.20     1.0   \n",
            "1           76         3         1       1.0       5.0      3.61     1.0   \n",
            "2           68         4         2       2.0       5.0      5.00     1.0   \n",
            "5           62         4         2       2.0       3.0      0.07     1.0   \n",
            "8           76         6         1       1.0       4.0      2.37     1.0   \n",
            "...        ...       ...       ...       ...       ...       ...     ...   \n",
            "9847        80         3         1       1.0       4.0      1.02     1.0   \n",
            "9848        45         3         2       2.0       4.0      3.51     1.0   \n",
            "9849        53         3         2       1.0       2.0      3.13     1.0   \n",
            "9852        80         3         1       1.0       3.0      4.08     1.0   \n",
            "9853        60         3         1       3.0       5.0      5.00     1.0   \n",
            "\n",
            "      HIQ210  SMQ020  PAD680  ...  LBXHCT  URXUMS  LBDSALSI  LBDMONO  \\\n",
            "0        2.0     2.0   300.0  ...    41.3    12.8      40.0      0.5   \n",
            "1        2.0     1.0   900.0  ...    38.0    16.0      43.0      0.3   \n",
            "2        2.0     2.0   180.0  ...    44.2    22.4      49.0      1.0   \n",
            "5        2.0     2.0   360.0  ...    43.4     5.9      37.0      0.5   \n",
            "8        2.0     1.0   180.0  ...    42.2    27.2      41.0      0.5   \n",
            "...      ...     ...     ...  ...     ...     ...       ...      ...   \n",
            "9847     2.0     1.0   180.0  ...    43.7    42.0      47.0      0.8   \n",
            "9848     2.0     1.0   600.0  ...    37.9     1.6      43.0      0.4   \n",
            "9849     2.0     1.0   360.0  ...    42.4    19.8      44.0      0.9   \n",
            "9852     2.0     2.0   240.0  ...    39.3     7.5      38.0      0.4   \n",
            "9853     2.0     2.0   480.0  ...    39.1     5.0      42.0      0.5   \n",
            "\n",
            "      LBDLYMNO  LBXSKSI  LBDSUASI   URXCRS  LBXSATSI  LBDSCASI  \n",
            "0          0.6      3.9     303.3  10608.0      19.0     2.275  \n",
            "1          0.9      4.5     410.4  16972.8      17.0     2.275  \n",
            "2          3.5      3.7     249.8  24044.8      19.0     2.475  \n",
            "5          2.9      3.9     214.1   6011.2       9.0     2.250  \n",
            "8          2.2      4.0     333.1   7867.6      26.0     2.250  \n",
            "...        ...      ...       ...      ...       ...       ...  \n",
            "9847       2.1      4.2     350.9   6541.6      21.0     2.500  \n",
            "9848       2.6      3.9     339.0   4154.8      13.0     2.400  \n",
            "9849       2.6      3.4     362.8  21923.2      40.0     2.400  \n",
            "9852       1.4      4.5     368.8   5127.2      12.0     2.250  \n",
            "9853       1.7      4.1     309.3   3447.6      22.0     2.350  \n",
            "\n",
            "[6757 rows x 51 columns]\n"
          ]
        }
      ]
    },
    {
      "cell_type": "code",
      "source": [
        "#Oversampling balancing technique\n",
        "smote = SMOTE(sampling_strategy='auto')\n",
        "X_resampled, y_resampled = smote.fit_resample(x, y)\n",
        "\n",
        "#Random Undersampling balancing technique\n",
        "undersampler = RandomUnderSampler(sampling_strategy='auto', random_state=42)\n",
        "X_resampled, y_resampled = undersampler.fit_resample(x, y)\n",
        "\n",
        "#Train and Test\n",
        "x_train, x_test, y_train, y_test = train_test_split(X_resampled, y_resampled, test_size=0.2, random_state=42)"
      ],
      "metadata": {
        "id": "JCOOiHO9oRJu"
      },
      "execution_count": null,
      "outputs": []
    },
    {
      "cell_type": "code",
      "source": [
        "# Apply the model Support vector classification\n",
        "clf = svm.SVC()\n",
        "\n",
        "# Scale the data\n",
        "clf = make_pipeline(StandardScaler(), clf)\n",
        "\n",
        "clf.fit(x_train,y_train)\n",
        "\n",
        "# Predict the x data\n",
        "y_pred = clf.predict(x_test)\n",
        "print(\"Accuracy score: \", accuracy_score(y_test,y_pred))\n",
        "\n",
        "# Check the f1 score to measures a model's accuracy\n",
        "f1 = f1_score(y_test, y_pred)\n",
        "print(\"F1 score: \", f1)\n",
        "\n",
        "# Display confusion matrix\n",
        "cm = confusion_matrix(y_test, y_pred, labels=clf.classes_)\n",
        "\n",
        "percentage_cm = np.round(cm.astype('float') / cm.sum(axis=1)[:, np.newaxis], 2)\n",
        "\n",
        "disp = ConfusionMatrixDisplay(percentage_cm,\n",
        "                               display_labels=clf.classes_)\n",
        "disp.plot()\n",
        "plt.show()\n",
        "plt.title('Supported Vector Machine')"
      ],
      "metadata": {
        "id": "fbV_L6ESoRPO",
        "colab": {
          "base_uri": "https://localhost:8080/",
          "height": 942
        },
        "outputId": "cb593667-6c7e-451a-e368-5b9b3882deb2"
      },
      "execution_count": null,
      "outputs": [
        {
          "output_type": "stream",
          "name": "stdout",
          "text": [
            "Accuracy score:  0.7366548042704626\n",
            "F1 score:  0.7516778523489933\n"
          ]
        },
        {
          "output_type": "display_data",
          "data": {
            "text/plain": [
              "<Figure size 640x480 with 2 Axes>"
            ],
            "image/png": "[encoded data removed]"
          },
          "metadata": {}
        },
        {
          "output_type": "execute_result",
          "data": {
            "text/plain": [
              "Text(0.5, 1.0, 'Supported Vector Machine')"
            ]
          },
          "metadata": {},
          "execution_count": 27
        },
        {
          "output_type": "display_data",
          "data": {
            "text/plain": [
              "<Figure size 640x480 with 1 Axes>"
            ],
            "image/png": "[encoded data removed]"
          },
          "metadata": {}
        }
      ]
    }
  ]
}
