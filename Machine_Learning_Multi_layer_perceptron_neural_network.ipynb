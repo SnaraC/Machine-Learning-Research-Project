{
  "nbformat": 4,
  "nbformat_minor": 0,
  "metadata": {
    "colab": {
      "provenance": [],
      "authorship_tag": "ABX9TyOvGP3HZwUOD8Zk518nAISH",
      "include_colab_link": true
    },
    "kernelspec": {
      "name": "python3",
      "display_name": "Python 3"
    },
    "language_info": {
      "name": "python"
    }
  },
  "cells": [
    {
      "cell_type": "markdown",
      "metadata": {
        "id": "view-in-github",
        "colab_type": "text"
      },
      "source": [
        "<a href=\"https://colab.research.google.com/github/SnaraC/Machine-Learning-Research-Project/blob/main/Machine_Learning_Multi_layer_perceptron_neural_network.ipynb\" target=\"_parent\"><img src=\"https://colab.research.google.com/assets/colab-badge.svg\" alt=\"Open In Colab\"/></a>"
      ]
    },
    {
      "cell_type": "code",
      "execution_count": null,
      "metadata": {
        "id": "Bgb0xTYxreqr"
      },
      "outputs": [],
      "source": [
        "import numpy as np\n",
        "import pandas as pd\n",
        "from keras.models import Sequential\n",
        "from keras.layers import Dense\n",
        "from sklearn.model_selection import train_test_split\n",
        "from sklearn.metrics import accuracy_score\n",
        "from sklearn.metrics import confusion_matrix, ConfusionMatrixDisplay, f1_score\n",
        "from imblearn.over_sampling import SMOTE\n",
        "from sklearn.pipeline import make_pipeline\n",
        "from sklearn.preprocessing import StandardScaler\n",
        "from sklearn.preprocessing import MinMaxScaler\n",
        "from matplotlib import pyplot as plt\n",
        "from imblearn.under_sampling import RandomUnderSampler\n",
        "import seaborn as sns"
      ]
    },
    {
      "cell_type": "code",
      "source": [
        "# Import the data\n",
        "\n",
        "#data = pd.read_excel('/content/sample_data/Dataset_A_dataset.xlsx')\n",
        "#data = pd.read_excel('/content/sample_data/updatedData.xlsx')\n",
        "#data = pd.read_csv('/content/sample_data/Dataset_B_dataset.csv')\n",
        "\n",
        "# Remove missing data\n",
        "\n",
        "data.dropna(axis=0, inplace=True)\n",
        "#print(column)"
      ],
      "metadata": {
        "colab": {
          "base_uri": "https://localhost:8080/"
        },
        "id": "asE0nnferjot",
        "outputId": "74aee04c-d4da-4066-a31d-d1dc73410a1f"
      },
      "execution_count": null,
      "outputs": [
        {
          "output_type": "stream",
          "name": "stdout",
          "text": [
            "(515, 102)\n"
          ]
        }
      ]
    },
    {
      "cell_type": "code",
      "source": [
        "#Choose the target output\n",
        "\n",
        "#x = data.drop(['PHQ', 'Y1MED1FF'], axis=1)\n",
        "#y = data['Y1MED1FF']\n",
        "\n",
        "#x = data.drop(['PHQ', 'Y1MED1FF'], axis=1)\n",
        "#y = data['PHQ']\n",
        "\n",
        "#x = data.drop(['target', 'ID'], axis=1)\n",
        "#y = data['target']\n"
      ],
      "metadata": {
        "id": "xSAViT5Xrm0s"
      },
      "execution_count": null,
      "outputs": []
    },
    {
      "cell_type": "code",
      "source": [
        "# Scale the data\n",
        "scaler = MinMaxScaler()\n",
        "X_scaled = scaler.fit_transform(x)\n",
        "\n",
        "# Oversampling balancing technique\n",
        "\n",
        "#smote = SMOTE(sampling_strategy='auto')\n",
        "#X_train_resampled, y_train_resampled = smote.fit_resample(X_scaled, y)\n",
        "\n",
        "# Random Undersampling balancing technique\n",
        "\n",
        "#undersampler = RandomUnderSampler(sampling_strategy='auto', random_state=42)\n",
        "#X_train_resampled, y_train_resampled = undersampler.fit_resample(X_scaled, y)\n",
        "\n",
        "# Train and Test\n",
        "X_train, x_test, y_train, y_test = train_test_split(X_scaled, y, test_size=0.2, random_state=42)\n",
        "\n",
        "\n"
      ],
      "metadata": {
        "id": "avjwInAkrrMo"
      },
      "execution_count": null,
      "outputs": []
    },
    {
      "cell_type": "code",
      "source": [
        "# Model selection\n",
        "\n",
        "model = Sequential()\n",
        "model.add(Dense(64, activation='relu', input_shape=(X_train.shape[1],)))\n",
        "model.add(Dense(32, activation='relu'))\n",
        "model.add(Dense(1, activation='sigmoid'))"
      ],
      "metadata": {
        "id": "mF8UYmksrvvT"
      },
      "execution_count": null,
      "outputs": []
    },
    {
      "cell_type": "code",
      "source": [
        "# Apply the model Deep learning multi-layer perceptron neural network\n",
        "\n",
        "model.compile(loss='binary_crossentropy', optimizer='adam', metrics=['accuracy'])\n",
        "\n",
        "model.fit(X_train, y_train, epochs=10, batch_size=32, validation_split=0.2)\n",
        "\n",
        "y_pred_prob  = model.predict(x_test)\n",
        "\n",
        "threshold = 0.5\n",
        "y_pred = (y_pred_prob >= threshold).astype(int)\n",
        "\n",
        "# Calculate accuracy\n",
        "accuracy = accuracy_score(y_test, y_pred)\n",
        "print(\"Test Accuracy:\", accuracy)\n",
        "\n",
        "f1 = f1_score(y_test, y_pred)\n",
        "print(\"F1 score: \", f1)\n",
        "\n",
        "cm = confusion_matrix(y_test, y_pred)\n",
        "# Apply seaborn to access confusion matrix\n",
        "\n",
        "percentage_cm = np.round(cm.astype('float') / cm.sum(axis=1)[:, np.newaxis], 2)\n",
        "\n",
        "sns.heatmap(percentage_cm, annot=True, cmap='Blues', xticklabels=['0', '1'],\n",
        "            yticklabels=['0', '1'])\n",
        "\n",
        "plt.xlabel('Predicted Label')\n",
        "plt.ylabel('True Label')\n",
        "plt.title('MLP Neural Network')\n",
        "plt.show()"
      ],
      "metadata": {
        "colab": {
          "base_uri": "https://localhost:8080/",
          "height": 871
        },
        "id": "5N8CN3ukr3tU",
        "outputId": "ad650c37-faf0-4316-cfad-45acebe57a08"
      },
      "execution_count": null,
      "outputs": [
        {
          "output_type": "stream",
          "name": "stdout",
          "text": [
            "Epoch 1/10\n",
            "11/11 [==============================] - 2s 37ms/step - loss: 0.6350 - accuracy: 0.6839 - val_loss: 0.6324 - val_accuracy: 0.6867\n",
            "Epoch 2/10\n",
            "11/11 [==============================] - 0s 6ms/step - loss: 0.6079 - accuracy: 0.6991 - val_loss: 0.6318 - val_accuracy: 0.6867\n",
            "Epoch 3/10\n",
            "11/11 [==============================] - 0s 6ms/step - loss: 0.6001 - accuracy: 0.6991 - val_loss: 0.6297 - val_accuracy: 0.6867\n",
            "Epoch 4/10\n",
            "11/11 [==============================] - 0s 7ms/step - loss: 0.6036 - accuracy: 0.6991 - val_loss: 0.6331 - val_accuracy: 0.6867\n",
            "Epoch 5/10\n",
            "11/11 [==============================] - 0s 8ms/step - loss: 0.5910 - accuracy: 0.6991 - val_loss: 0.6290 - val_accuracy: 0.6867\n",
            "Epoch 6/10\n",
            "11/11 [==============================] - 0s 7ms/step - loss: 0.5868 - accuracy: 0.6991 - val_loss: 0.6300 - val_accuracy: 0.6867\n",
            "Epoch 7/10\n",
            "11/11 [==============================] - 0s 7ms/step - loss: 0.5817 - accuracy: 0.6991 - val_loss: 0.6304 - val_accuracy: 0.6867\n",
            "Epoch 8/10\n",
            "11/11 [==============================] - 0s 5ms/step - loss: 0.5799 - accuracy: 0.6991 - val_loss: 0.6301 - val_accuracy: 0.6867\n",
            "Epoch 9/10\n",
            "11/11 [==============================] - 0s 6ms/step - loss: 0.5763 - accuracy: 0.7173 - val_loss: 0.6289 - val_accuracy: 0.6867\n",
            "Epoch 10/10\n",
            "11/11 [==============================] - 0s 7ms/step - loss: 0.5654 - accuracy: 0.7082 - val_loss: 0.6290 - val_accuracy: 0.6867\n",
            "4/4 [==============================] - 0s 3ms/step\n",
            "Test Accuracy: 0.6893203883495146\n",
            "F1 score:  0.0\n"
          ]
        },
        {
          "output_type": "display_data",
          "data": {
            "text/plain": [
              "<Figure size 640x480 with 2 Axes>"
            ],
            "image/png": "[encoded data removed]"
          },
          "metadata": {}
        }
      ]
    }
  ]
}